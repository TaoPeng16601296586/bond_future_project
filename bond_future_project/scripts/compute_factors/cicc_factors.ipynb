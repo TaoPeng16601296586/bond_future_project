{
 "cells": [
  {
   "cell_type": "markdown",
   "id": "d8dca497",
   "metadata": {},
   "source": [
    "# 中金 动量因子"
   ]
  },
  {
   "cell_type": "code",
   "execution_count": null,
   "id": "6cf246b4",
   "metadata": {},
   "outputs": [],
   "source": [
    "# 构建 mmt_normal_M 因子（近1月收益率，约等于20个交易日）\n",
    "# =========================\n",
    "results = []\n",
    "for symbol in df[\"symbol\"].unique():\n",
    "    d = df[df[\"symbol\"] == symbol].sort_values(\"date\").copy()\n",
    "    d[\"mmt_normal_M\"] = d[\"close\"].pct_change(periods=20)\n",
    "    results.append(d[[\"symbol\", \"date\", \"mmt_normal_M\"]])\n",
    "\n",
    "mmt_normal_M = pd.concat(results, ignore_index=True)\n",
    "mmt_normal_M[\"date\"] = mmt_normal_M[\"date\"].dt.strftime(\"%Y/%#m/%#d\")\n",
    "mmt_normal_M"
   ]
  },
  {
   "cell_type": "code",
   "execution_count": null,
   "id": "12a82ca2",
   "metadata": {},
   "outputs": [],
   "source": [
    "# mmt_normal_A（近1年收益率 - 近1月收益率）\n",
    "results = []\n",
    "for symbol in df[\"symbol\"].unique():\n",
    "    d = df[df[\"symbol\"] == symbol].sort_values(\"date\").copy()\n",
    "    ret_12m = d[\"close\"].pct_change(periods=240)\n",
    "    ret_1m = d[\"close\"].pct_change(periods=20)\n",
    "    d[\"mmt_normal_A\"] = ret_12m - ret_1m\n",
    "    results.append(d[[\"symbol\", \"date\", \"mmt_normal_A\"]])\n",
    "\n",
    "mmt_normal_A = pd.concat(results, ignore_index=True)\n",
    "mmt_normal_A[\"date\"] = mmt_normal_A[\"date\"].dt.strftime(\"%Y/%#m/%#d\")\n",
    "mmt_normal_A"
   ]
  }
 ],
 "metadata": {
  "language_info": {
   "name": "python"
  }
 },
 "nbformat": 4,
 "nbformat_minor": 5
}
